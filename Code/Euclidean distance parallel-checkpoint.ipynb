{
 "cells": [
  {
   "cell_type": "code",
   "execution_count": 6,
   "metadata": {},
   "outputs": [
    {
     "ename": "CompileError",
     "evalue": "nvcc compilation of C:\\Users\\rohit\\AppData\\Local\\Temp\\tmp35jtlt7p\\kernel.cu failed\n[command: nvcc --cubin -arch sm_61 -m64 -Id:\\programhdd\\anaconda3\\envs\\pytorch\\lib\\site-packages\\pycuda\\cuda kernel.cu]\n[stdout:\nnvcc fatal   : Cannot find compiler 'cl.exe' in PATH\r\n]",
     "output_type": "error",
     "traceback": [
      "\u001b[1;31m---------------------------------------------------------------------------\u001b[0m",
      "\u001b[1;31mCompileError\u001b[0m                              Traceback (most recent call last)",
      "\u001b[1;32m<ipython-input-6-cb49da5e3036>\u001b[0m in \u001b[0;36m<module>\u001b[1;34m\u001b[0m\n\u001b[0;32m     25\u001b[0m \u001b[1;33m\u001b[0m\u001b[0m\n\u001b[0;32m     26\u001b[0m \u001b[1;33m\u001b[0m\u001b[0m\n\u001b[1;32m---> 27\u001b[1;33m \"\"\")\n\u001b[0m",
      "\u001b[1;32mD:\\ProgramHDD\\Anaconda3\\envs\\pytorch\\lib\\site-packages\\pycuda\\compiler.py\u001b[0m in \u001b[0;36m__init__\u001b[1;34m(self, source, nvcc, options, keep, no_extern_c, arch, code, cache_dir, include_dirs)\u001b[0m\n\u001b[0;32m    356\u001b[0m             \u001b[0mcode\u001b[0m\u001b[1;33m,\u001b[0m\u001b[1;33m\u001b[0m\u001b[1;33m\u001b[0m\u001b[0m\n\u001b[0;32m    357\u001b[0m             \u001b[0mcache_dir\u001b[0m\u001b[1;33m,\u001b[0m\u001b[1;33m\u001b[0m\u001b[1;33m\u001b[0m\u001b[0m\n\u001b[1;32m--> 358\u001b[1;33m             \u001b[0minclude_dirs\u001b[0m\u001b[1;33m,\u001b[0m\u001b[1;33m\u001b[0m\u001b[1;33m\u001b[0m\u001b[0m\n\u001b[0m\u001b[0;32m    359\u001b[0m         )\n\u001b[0;32m    360\u001b[0m \u001b[1;33m\u001b[0m\u001b[0m\n",
      "\u001b[1;32mD:\\ProgramHDD\\Anaconda3\\envs\\pytorch\\lib\\site-packages\\pycuda\\compiler.py\u001b[0m in \u001b[0;36mcompile\u001b[1;34m(source, nvcc, options, keep, no_extern_c, arch, code, cache_dir, include_dirs, target)\u001b[0m\n\u001b[0;32m    296\u001b[0m         \u001b[0moptions\u001b[0m\u001b[1;33m.\u001b[0m\u001b[0mappend\u001b[0m\u001b[1;33m(\u001b[0m\u001b[1;34m\"-I\"\u001b[0m \u001b[1;33m+\u001b[0m \u001b[0mi\u001b[0m\u001b[1;33m)\u001b[0m\u001b[1;33m\u001b[0m\u001b[1;33m\u001b[0m\u001b[0m\n\u001b[0;32m    297\u001b[0m \u001b[1;33m\u001b[0m\u001b[0m\n\u001b[1;32m--> 298\u001b[1;33m     \u001b[1;32mreturn\u001b[0m \u001b[0mcompile_plain\u001b[0m\u001b[1;33m(\u001b[0m\u001b[0msource\u001b[0m\u001b[1;33m,\u001b[0m \u001b[0moptions\u001b[0m\u001b[1;33m,\u001b[0m \u001b[0mkeep\u001b[0m\u001b[1;33m,\u001b[0m \u001b[0mnvcc\u001b[0m\u001b[1;33m,\u001b[0m \u001b[0mcache_dir\u001b[0m\u001b[1;33m,\u001b[0m \u001b[0mtarget\u001b[0m\u001b[1;33m)\u001b[0m\u001b[1;33m\u001b[0m\u001b[1;33m\u001b[0m\u001b[0m\n\u001b[0m\u001b[0;32m    299\u001b[0m \u001b[1;33m\u001b[0m\u001b[0m\n\u001b[0;32m    300\u001b[0m \u001b[1;33m\u001b[0m\u001b[0m\n",
      "\u001b[1;32mD:\\ProgramHDD\\Anaconda3\\envs\\pytorch\\lib\\site-packages\\pycuda\\compiler.py\u001b[0m in \u001b[0;36mcompile_plain\u001b[1;34m(source, options, keep, nvcc, cache_dir, target)\u001b[0m\n\u001b[0;32m    153\u001b[0m             \u001b[0mcmdline\u001b[0m\u001b[1;33m,\u001b[0m\u001b[1;33m\u001b[0m\u001b[1;33m\u001b[0m\u001b[0m\n\u001b[0;32m    154\u001b[0m             \u001b[0mstdout\u001b[0m\u001b[1;33m=\u001b[0m\u001b[0mstdout\u001b[0m\u001b[1;33m.\u001b[0m\u001b[0mdecode\u001b[0m\u001b[1;33m(\u001b[0m\u001b[1;34m\"utf-8\"\u001b[0m\u001b[1;33m,\u001b[0m \u001b[1;34m\"replace\"\u001b[0m\u001b[1;33m)\u001b[0m\u001b[1;33m,\u001b[0m\u001b[1;33m\u001b[0m\u001b[1;33m\u001b[0m\u001b[0m\n\u001b[1;32m--> 155\u001b[1;33m             \u001b[0mstderr\u001b[0m\u001b[1;33m=\u001b[0m\u001b[0mstderr\u001b[0m\u001b[1;33m.\u001b[0m\u001b[0mdecode\u001b[0m\u001b[1;33m(\u001b[0m\u001b[1;34m\"utf-8\"\u001b[0m\u001b[1;33m,\u001b[0m \u001b[1;34m\"replace\"\u001b[0m\u001b[1;33m)\u001b[0m\u001b[1;33m,\u001b[0m\u001b[1;33m\u001b[0m\u001b[1;33m\u001b[0m\u001b[0m\n\u001b[0m\u001b[0;32m    156\u001b[0m         )\n\u001b[0;32m    157\u001b[0m \u001b[1;33m\u001b[0m\u001b[0m\n",
      "\u001b[1;31mCompileError\u001b[0m: nvcc compilation of C:\\Users\\rohit\\AppData\\Local\\Temp\\tmp35jtlt7p\\kernel.cu failed\n[command: nvcc --cubin -arch sm_61 -m64 -Id:\\programhdd\\anaconda3\\envs\\pytorch\\lib\\site-packages\\pycuda\\cuda kernel.cu]\n[stdout:\nnvcc fatal   : Cannot find compiler 'cl.exe' in PATH\r\n]"
     ]
    }
   ],
   "source": [
    "import pycuda.driver as cuda\n",
    "import pycuda.autoinit\n",
    "from pycuda.compiler import SourceModule\n",
    "import numpy\n",
    "from math import sqrt\n",
    "import timer\n",
    "\n",
    "\n",
    "\n",
    "#Now we need to define the kernel to perform the euclidan disatance:\n",
    "mod= SourceModule(\"\"\" \n",
    "__global__ void calculate_distance(int *image1, int *image2, int *dest)\n",
    "{\n",
    "    int sum=0;\n",
    "    int dest1[768];\n",
    "    const int i =threadIdx.x;\n",
    "    dest1[i]=(image1[i] - image2[i])**2;\n",
    "    \n",
    "    for(int i=0;i<768;i++){\n",
    "    dest+=dest1[i];\n",
    "    }\n",
    "    \n",
    "    \n",
    "}\n",
    "\n",
    "\n",
    "\"\"\")"
   ]
  },
  {
   "cell_type": "code",
   "execution_count": null,
   "metadata": {},
   "outputs": [],
   "source": [
    "\n",
    "#creating two arrays for parrllel addition\n",
    "start=timer()\n",
    "image1= np.random.randint(255,size=(784))\n",
    "image2= np.random.randint(255,size=(784))\n",
    "\n",
    "#since some of the cuda suport only 32 bit precision\n",
    "image1=image1.astype(np.float32)\n",
    "image2=image2.astype(np.float32)\n",
    "\n",
    "dest=np.zeros_like(1)\n",
    "\n",
    "\n"
   ]
  },
  {
   "cell_type": "code",
   "execution_count": null,
   "metadata": {},
   "outputs": [],
   "source": [
    "# #now we need to allocate the GPU Memory:\n",
    "# image1_gpu= cuda.mem_alloc(image1.nbytes)\n",
    "# image2_gpu= cuda.mem_alloc(image2.nbytes)\n",
    "\n",
    "# #send data to GPU Memory\n",
    "# cuda.memory_htod(,image1_gpu,image1)\n",
    "# cuda.memory_htod(,image2_gpu,image2)\n",
    "\n",
    "calculate_distance(\n",
    "    cuda.Out(dest), cuda.In(image1), cuda.In(image2),\n",
    "    block=(784,1,1), grid(1,1)\n",
    ")\n",
    "\n",
    "print(\"sum is:\")\n",
    "print(dest)\n",
    "\n",
    "\n",
    "\n"
   ]
  },
  {
   "cell_type": "code",
   "execution_count": null,
   "metadata": {},
   "outputs": [],
   "source": []
  }
 ],
 "metadata": {
  "kernelspec": {
   "display_name": "Python 3",
   "language": "python",
   "name": "python3"
  },
  "language_info": {
   "codemirror_mode": {
    "name": "ipython",
    "version": 3
   },
   "file_extension": ".py",
   "mimetype": "text/x-python",
   "name": "python",
   "nbconvert_exporter": "python",
   "pygments_lexer": "ipython3",
   "version": "3.7.6"
  }
 },
 "nbformat": 4,
 "nbformat_minor": 5
}
