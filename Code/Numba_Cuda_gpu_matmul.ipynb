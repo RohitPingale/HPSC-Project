{
 "cells": [
  {
   "cell_type": "code",
   "execution_count": 1,
   "metadata": {},
   "outputs": [],
   "source": [
    "from numba import cuda, float32\n",
    "import numba\n",
    "import numpy as np\n",
    "import math\n",
    "import time\n",
    "import matplotlib.pyplot as plt\n",
    "from tqdm import tqdm"
   ]
  },
  {
   "cell_type": "code",
   "execution_count": 2,
   "metadata": {},
   "outputs": [],
   "source": [
    "threads_per_block_xy = (25,25)"
   ]
  },
  {
   "cell_type": "markdown",
   "metadata": {},
   "source": [
    "## A and B matrix mutliplication using CUDA "
   ]
  },
  {
   "cell_type": "code",
   "execution_count": 4,
   "metadata": {},
   "outputs": [],
   "source": [
    "@cuda.jit()\n",
    "def matmul_gpu(A, B, C):\n",
    "    row, col = cuda.grid(2)\n",
    "    if row < C.shape[0] and col < C.shape[1]:\n",
    "        tmp = 0.\n",
    "        for k in range(A.shape[1]):\n",
    "            tmp += A[row, k] * B[k, col]\n",
    "        C[row, col] = tmp"
   ]
  },
  {
   "cell_type": "code",
   "execution_count": 5,
   "metadata": {},
   "outputs": [
    {
     "name": "stdout",
     "output_type": "stream",
     "text": [
      "start processing in GPU\n"
     ]
    },
    {
     "name": "stderr",
     "output_type": "stream",
     "text": [
      "100%|██████████████████████████████████████████████████████████████████████████████████| 10/10 [05:28<00:00, 32.87s/it]\n"
     ]
    }
   ],
   "source": [
    "timelist = []\n",
    "Nrange = range(1,10000,1000)\n",
    "\n",
    "print(\"start processing in GPU\")\n",
    "\n",
    "for N in tqdm(Nrange):\n",
    "    A = np.random.rand(N,N)\n",
    "    B = np.random.rand(N,N)\n",
    "    C = np.random.rand(A.shape[0], B.shape[1])\n",
    "    A_global_mem = cuda.to_device(A)\n",
    "    B_global_mem = cuda.to_device(B)\n",
    "    \n",
    "    C_global_mem = cuda.device_array((A.shape[0], B.shape[1]))\n",
    "    \n",
    "    \n",
    "\n",
    "    blocks_per_grid_x = int(math.ceil(A.shape[0] / threads_per_block_xy[0]))\n",
    "    blocks_per_grid_y = int(math.ceil(B.shape[1] / threads_per_block_xy[1]))\n",
    "    blocks_per_grid = (blocks_per_grid_x, blocks_per_grid_y)\n",
    "\n",
    "\n",
    "    start_gpu = time.time()\n",
    "    matmul_gpu[blocks_per_grid, threads_per_block_xy](A_global_mem, B_global_mem, C_global_mem)\n",
    "    cuda.synchronize()\n",
    "    end_gpu = time.time()\n",
    "    time_gpu = end_gpu - start_gpu\n",
    "    timelist.append(time_gpu)\n",
    "    C_global_gpu = C_global_mem.copy_to_host()"
   ]
  },
  {
   "cell_type": "code",
   "execution_count": 6,
   "metadata": {},
   "outputs": [
    {
     "data": {
      "image/png": "[encoded data removed]",
      "text/plain": [
       "<Figure size 576x576 with 1 Axes>"
      ]
     },
     "metadata": {
      "needs_background": "light"
     },
     "output_type": "display_data"
    },
    {
     "data": {
      "text/plain": [
       "<Figure size 432x288 with 0 Axes>"
      ]
     },
     "metadata": {},
     "output_type": "display_data"
    }
   ],
   "source": [
    "fig = plt.figure(figsize=(8,8))\n",
    "plt.plot(Nrange,timelist)\n",
    "plt.xlabel('Matrix size (N)')\n",
    "plt.ylabel('TIme Taken (sec)')\n",
    "plt.title(\"Cuda Matrix multplication computation time\")\n",
    "plt.show()\n",
    "plt.savefig(\"CUDATime_N.png\")"
   ]
  },
  {
   "cell_type": "code",
   "execution_count": null,
   "metadata": {},
   "outputs": [],
   "source": []
  }
 ],
 "metadata": {
  "kernelspec": {
   "display_name": "Python 3",
   "language": "python",
   "name": "python3"
  },
  "language_info": {
   "codemirror_mode": {
    "name": "ipython",
    "version": 3
   },
   "file_extension": ".py",
   "mimetype": "text/x-python",
   "name": "python",
   "nbconvert_exporter": "python",
   "pygments_lexer": "ipython3",
   "version": "3.7.3"
  }
 },
 "nbformat": 4,
 "nbformat_minor": 4
}
