{
 "cells": [
  {
   "cell_type": "code",
   "execution_count": 1,
   "metadata": {
    "scrolled": true
   },
   "outputs": [],
   "source": [
    "import pandas as pd\n",
    "import numpy as np\n",
    "from math import sqrt\n",
    "import time\n",
    "\n",
    "import numba\n",
    "from numba import int32, float64\n",
    "from numba import njit, prange\n",
    "\n",
    "from sklearn.model_selection import train_test_split\n",
    "from sklearn.datasets import load_digits\n",
    "from sklearn.metrics import accuracy_score\n",
    "\n",
    "import matplotlib.pyplot as plt \n",
    "##https://stackoverflow.com/questions/21154643/python-line-profiler-installation\n",
    "%load_ext line_profiler"
   ]
  },
  {
   "cell_type": "code",
   "execution_count": 2,
   "metadata": {},
   "outputs": [
    {
     "name": "stdout",
     "output_type": "stream",
     "text": [
      "(1797, 64)\n"
     ]
    }
   ],
   "source": [
    "digits = load_digits()\n",
    "print(digits.data.shape)"
   ]
  },
  {
   "cell_type": "code",
   "execution_count": 3,
   "metadata": {},
   "outputs": [
    {
     "data": {
      "text/plain": [
       "<Figure size 432x288 with 0 Axes>"
      ]
     },
     "metadata": {},
     "output_type": "display_data"
    },
    {
     "data": {
      "image/png": "[encoded data removed]",
      "text/plain": [
       "<Figure size 288x288 with 1 Axes>"
      ]
     },
     "metadata": {
      "needs_background": "light"
     },
     "output_type": "display_data"
    }
   ],
   "source": [
    "#image representatio of the data\n",
    "plt.gray() \n",
    "plt.matshow(digits.images[0]) \n",
    "plt.show() "
   ]
  },
  {
   "cell_type": "code",
   "execution_count": 4,
   "metadata": {},
   "outputs": [],
   "source": [
    "X = digits.data \n",
    "y = digits.target\n",
    "\n",
    "X_train, X_test, y_train, y_test = train_test_split(X, y, test_size=0.25, random_state=123)"
   ]
  },
  {
   "cell_type": "code",
   "execution_count": 21,
   "metadata": {},
   "outputs": [],
   "source": [
    "@numba.jit(nopython=True)\n",
    "# @njit(parallel=True)\n",
    "def euc_dist(x1, x2):\n",
    "#     return np.sqrt(np.sum((x1-x2)**2\n",
    "    dist = np.linalg.norm(x1-x2)\n",
    "    return dist\n",
    "\n",
    "@njit(parallel=True)\n",
    "def calculate_all_dist(X_train,dist,test):\n",
    "    for i in prange(X_train.shape[0]):\n",
    "        dist[i] = euc_dist(X_train[i], test)\n",
    "    return dist\n",
    "        \n",
    "@numba.jit(nopython=True)\n",
    "def predict(X_train, y_train, test, K):\n",
    "    dist = np.zeros((X_train.shape[0], 1))\n",
    "    \n",
    "    dist = calculate_all_dist(X_train,dist,test)\n",
    "#     dist = np.array([euc_dist(test, x_t) for x_t in X_train])\n",
    "    \n",
    "    X_train = np.column_stack((X_train, y_train))\n",
    "    X_train = np.column_stack((X_train, dist))\n",
    "    \n",
    "    X_train = X_train[X_train[:,-1].argsort()]\n",
    "    \n",
    "    neighbor_classes = X_train[:, -2][:K]\n",
    "    classes = {}\n",
    "    for item in neighbor_classes:\n",
    "        if item in classes:\n",
    "            classes[item] = classes.get(item) + 1\n",
    "        else:\n",
    "            classes[item] = 1\n",
    "    counter_sorted = sorted(classes)\n",
    "    \n",
    "    return counter_sorted[0]\n",
    "\n",
    "def predict_numba(X_train, X_test, y_train,K):\n",
    "    predictions = np.zeros(X_test.shape[0])\n",
    "    for i in np.arange(X_test.shape[0]):\n",
    "        predictions[i] = predict(X_train, y_train, X_test[i], K)\n",
    "    return predictions"
   ]
  },
  {
   "cell_type": "code",
   "execution_count": 22,
   "metadata": {},
   "outputs": [
    {
     "name": "stdout",
     "output_type": "stream",
     "text": [
      "Time Taken: 2.470996856689453 sec\n",
      "K = 3; Accuracy: 0.9711111111111111\n"
     ]
    }
   ],
   "source": [
    "k = 3\n",
    "X_train, X_test, y_train = X_train.astype('float64'), X_test.astype('float64'), y_train.astype('float64')\n",
    "start = time.time()\n",
    "pred = predict_numba(X_train, X_test, y_train,k)\n",
    "acc = accuracy_score(y_test, pred)\n",
    "end = time.time()\n",
    "print(f\"Time Taken: {end-start} sec\")\n",
    "print(\"K = \"+str(k)+\"; Accuracy: \"+str(acc))"
   ]
  },
  {
   "cell_type": "code",
   "execution_count": 23,
   "metadata": {},
   "outputs": [
    {
     "name": "stdout",
     "output_type": "stream",
     "text": [
      "378 ms ± 5.71 ms per loop (mean ± std. dev. of 7 runs, 5 loops each)\n"
     ]
    }
   ],
   "source": [
    "%timeit -n 5 predict_numba(X_train, X_test, y_train,k)"
   ]
  },
  {
   "cell_type": "code",
   "execution_count": 24,
   "metadata": {},
   "outputs": [],
   "source": [
    "%lprun -f predict_numba predict_numba(X_train, X_test, y_train,k)"
   ]
  },
  {
   "cell_type": "markdown",
   "metadata": {},
   "source": [
    "## Logistic Regression"
   ]
  },
  {
   "cell_type": "code",
   "execution_count": 80,
   "metadata": {},
   "outputs": [],
   "source": [
    "alpha = 1e-2\n",
    "\n",
    "@numba.jit(nopython=True, parallel=True)\n",
    "def logistic_regression(Y, X, w, iterations,alpha):\n",
    "    for i in range(iterations):\n",
    "            ypred =  _sigmoid(np.dot(X, w))\n",
    "            gradient = np.dot((Y - ypred),X)\n",
    "            w += np.dot(alpha, gradient)\n",
    "    return w\n",
    "\n",
    "\n",
    "\n",
    "def train(input_var, label, initial_params, iterations = 5000):\n",
    "    \"\"\"Train the model using batch gradient ascent\"\"\"\n",
    "    x_total = []\n",
    "    y_total = []\n",
    "    for i, xy in enumerate(zip(input_var, label)):\n",
    "                x_bar = np.array(np.concatenate((xy[0],[1.0]),axis=0))\n",
    "                x_total.append(x_bar)\n",
    "                y_binary = 1.0 if xy[1] == class_of_interest else 0.0\n",
    "                y_total.append(y_binary)\n",
    "    alphalist = np.ones(len(x_bar))*0.01\n",
    "    gradient = logistic_regression(np.array(y_total),np.array(x_total),initial_params,iterations,alphalist)\n",
    "\n",
    "    return gradient\n",
    "\n",
    "\n",
    "def test(input_test, label_test,trained_params):\n",
    "    \"\"\"Test the accuracy of the model using test data\"\"\"\n",
    "    total_classifications = 0\n",
    "    correct_classifications = 0\n",
    "\n",
    "    for x,y in zip(input_test, label_test):\n",
    "        total_classifications += 1\n",
    "        x_bar = np.array(np.concatenate((x,[1.0]),axis=0))\n",
    "        y_hat = predict(x_bar, trained_params)\n",
    "        \n",
    "        y_binary = 1.0 if y == class_of_interest else 0.0\n",
    "\n",
    "        if y_hat >= 0.5 and  y_binary == 1:\n",
    "            correct_classifications += 1\n",
    "\n",
    "        if y_hat < 0.5 and  y_binary != 1:\n",
    "            correct_classifications += 1\n",
    "\n",
    "    accuracy = correct_classifications / total_classifications\n",
    "\n",
    "    return accuracy\n"
   ]
  },
  {
   "cell_type": "code",
   "execution_count": 81,
   "metadata": {},
   "outputs": [],
   "source": [
    "digits_train, digits_test, digits_label_train, digits_label_test = train_test_split(X, y, test_size=0.30)"
   ]
  },
  {
   "cell_type": "code",
   "execution_count": 82,
   "metadata": {
    "scrolled": false
   },
   "outputs": [
    {
     "name": "stdout",
     "output_type": "stream",
     "text": [
      "Accuracy of prediciting in test set: 0.9018518518518519\n",
      "Total time taken: 1.2025914192199707 sec\n"
     ]
    }
   ],
   "source": [
    "start = time.time()\n",
    "initial_params = np.zeros(len(digits.data[0]) + 1)\n",
    "for clas in range(10):\n",
    "    class_of_interest = clas\n",
    "    if clas == 0:\n",
    "        trained_params = initial_params\n",
    "    trained_params = train(digits_train / 16.0, digits_label_train, trained_params,1)\n",
    "digits_accuracy = test(digits_test / 16.0, digits_label_test,trained_params)\n",
    "end = time.time()\n",
    "\n",
    "print(f'Accuracy of prediciting in test set: {digits_accuracy}')\n",
    "print(f'Total time taken: {end- start} sec')"
   ]
  },
  {
   "cell_type": "code",
   "execution_count": 83,
   "metadata": {},
   "outputs": [
    {
     "name": "stdout",
     "output_type": "stream",
     "text": [
      "884 ms ± 134 ms per loop (mean ± std. dev. of 7 runs, 5 loops each)\n"
     ]
    }
   ],
   "source": [
    "%timeit -n 5  train(digits_train / 16.0, digits_label_train, initial_params,1000)"
   ]
  },
  {
   "cell_type": "code",
   "execution_count": 84,
   "metadata": {},
   "outputs": [],
   "source": [
    "%lprun -f train train(digits_train / 16.0, digits_label_train, initial_params,1000)"
   ]
  },
  {
   "cell_type": "code",
   "execution_count": null,
   "metadata": {},
   "outputs": [],
   "source": []
  }
 ],
 "metadata": {
  "kernelspec": {
   "display_name": "Python 3",
   "language": "python",
   "name": "python3"
  },
  "language_info": {
   "codemirror_mode": {
    "name": "ipython",
    "version": 3
   },
   "file_extension": ".py",
   "mimetype": "text/x-python",
   "name": "python",
   "nbconvert_exporter": "python",
   "pygments_lexer": "ipython3",
   "version": "3.7.6"
  }
 },
 "nbformat": 4,
 "nbformat_minor": 4
}
