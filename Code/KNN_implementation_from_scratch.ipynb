{
 "cells": [
  {
   "cell_type": "code",
   "execution_count": 5,
   "metadata": {},
   "outputs": [],
   "source": [
    "import pandas as pd\n",
    "import numpy as np\n",
    "from math import sqrt\n",
    "import time\n",
    "\n",
    "import numba\n",
    "from numba import int32, float64\n",
    "from numba.experimental import jitclass\n",
    "\n",
    "from sklearn.model_selection import train_test_split\n",
    "from sklearn.datasets import load_digits\n",
    "from sklearn.metrics import accuracy_score\n",
    "\n",
    "import matplotlib.pyplot as plt\n",
    "#https://stackoverflow.com/questions/21154643/python-line-profiler-installation\n",
    "%load_ext line_profiler"
   ]
  },
  {
   "cell_type": "code",
   "execution_count": 7,
   "metadata": {},
   "outputs": [
    {
     "name": "stdout",
     "output_type": "stream",
     "text": [
      "(1797, 64)\n"
     ]
    }
   ],
   "source": [
    "digits = load_digits()\n",
    "print(digits.data.shape)\n",
    "\n",
    "\n",
    "#image representatio of the data\n",
    "# plt.gray() \n",
    "# plt.matshow(digits.images[0]) \n",
    "# plt.show() \n",
    "\n",
    "\n",
    "X = digits.data \n",
    "y = digits.target\n",
    "\n",
    "X_train, X_test, y_train, y_test = train_test_split(X, y, test_size=0.25, random_state=123)"
   ]
  },
  {
   "cell_type": "code",
   "execution_count": 13,
   "metadata": {},
   "outputs": [
    {
     "data": {
      "text/plain": [
       "(1347, 450)"
      ]
     },
     "execution_count": 13,
     "metadata": {},
     "output_type": "execute_result"
    }
   ],
   "source": [
    "len(X_train),len(X_test)"
   ]
  },
  {
   "cell_type": "code",
   "execution_count": 8,
   "metadata": {},
   "outputs": [],
   "source": [
    "class KNN:\n",
    "    def __init__(self, K=3):\n",
    "        self.K = K\n",
    "\n",
    "    def fit(self, x_train, y_train):\n",
    "        self.X_train = x_train\n",
    "        self.Y_train = y_train\n",
    "\n",
    "    \n",
    "    def euc_dist(self, x1, x2):\n",
    "    \treturn np.sqrt(np.sum((x1-x2)**2))\n",
    "    \t\n",
    "    \n",
    "    def predict(self, X_test):\n",
    "\t    predictions = [] \n",
    "\t    for i in range(len(X_test)):\n",
    "\t        dist = np.array([self.euc_dist(X_test[i], x_t) for x_t in self.X_train])\n",
    "\t        dist_sorted = dist.argsort()[:self.K]\n",
    "\t        neigh_count = {}\n",
    "\t        for idx in dist_sorted:\n",
    "\t            if self.Y_train[idx] in neigh_count:\n",
    "\t                neigh_count[self.Y_train[idx]] += 1\n",
    "\t            else:\n",
    "\t                neigh_count[self.Y_train[idx]] = 1\n",
    "\t       \n",
    "\t        sorted_neigh_count = sorted(neigh_count.items(), reverse=True)\n",
    "\t        predictions.append(sorted_neigh_count[0][0]) \n",
    "\t    return predictions\n"
   ]
  },
  {
   "cell_type": "code",
   "execution_count": 9,
   "metadata": {},
   "outputs": [
    {
     "name": "stdout",
     "output_type": "stream",
     "text": [
      "Time Taken: 6.400968790054321 sec\n",
      "K = 3; Accuracy: 0.9755555555555555\n"
     ]
    }
   ],
   "source": [
    "k = 3\n",
    "start = time.time()\n",
    "model = KNN(K = k)\n",
    "model.fit(X_train, y_train)\n",
    "pred = model.predict(X_test)\n",
    "acc = accuracy_score(y_test, pred)\n",
    "end = time.time()\n",
    "print(f\"Time Taken: {end-start} sec\")\n",
    "print(\"K = \"+str(k)+\"; Accuracy: \"+str(acc))"
   ]
  },
  {
   "cell_type": "code",
   "execution_count": 5,
   "metadata": {},
   "outputs": [
    {
     "name": "stdout",
     "output_type": "stream",
     "text": [
      "5.73 s ± 313 ms per loop (mean ± std. dev. of 7 runs, 10 loops each)\n"
     ]
    }
   ],
   "source": [
    "%timeit -n 10 model.predict(X_test)"
   ]
  },
  {
   "cell_type": "code",
   "execution_count": 11,
   "metadata": {},
   "outputs": [],
   "source": [
    "%lprun -f  model.predict model.predict(X_test)"
   ]
  },
  {
   "cell_type": "code",
   "execution_count": null,
   "metadata": {},
   "outputs": [],
   "source": []
  }
 ],
 "metadata": {
  "kernelspec": {
   "display_name": "Python 3",
   "language": "python",
   "name": "python3"
  },
  "language_info": {
   "codemirror_mode": {
    "name": "ipython",
    "version": 3
   },
   "file_extension": ".py",
   "mimetype": "text/x-python",
   "name": "python",
   "nbconvert_exporter": "python",
   "pygments_lexer": "ipython3",
   "version": "3.7.6"
  }
 },
 "nbformat": 4,
 "nbformat_minor": 4
}
