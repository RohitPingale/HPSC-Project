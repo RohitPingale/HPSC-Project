{
 "cells": [
  {
   "cell_type": "code",
   "execution_count": 51,
   "metadata": {},
   "outputs": [
    {
     "name": "stdout",
     "output_type": "stream",
     "text": [
      "The line_profiler extension is already loaded. To reload it, use:\n",
      "  %reload_ext line_profiler\n"
     ]
    }
   ],
   "source": [
    "import pandas as pd\n",
    "import numpy as np\n",
    "from math import sqrt\n",
    "import time\n",
    "\n",
    "import numba\n",
    "from numba import int32, float64\n",
    "from numba.experimental import jitclass\n",
    "\n",
    "from sklearn.model_selection import train_test_split\n",
    "from sklearn.datasets import load_digits\n",
    "from sklearn.metrics import accuracy_score\n",
    "from sklearn.preprocessing import MinMaxScaler\n",
    "from sklearn.metrics import accuracy_score, recall_score, precision_score\n",
    "from sklearn.utils import shuffle\n",
    "\n",
    "\n",
    "import matplotlib.pyplot as plt\n",
    "#https://stackoverflow.com/questions/21154643/python-line-profiler-installation\n",
    "%load_ext line_profiler"
   ]
  },
  {
   "cell_type": "code",
   "execution_count": 52,
   "metadata": {},
   "outputs": [
    {
     "name": "stdout",
     "output_type": "stream",
     "text": [
      "(1797, 64)\n"
     ]
    }
   ],
   "source": [
    "digits = load_digits()\n",
    "print(digits.data.shape)\n",
    "\n",
    "\n",
    "#image representatio of the data\n",
    "# plt.gray() \n",
    "# plt.matshow(digits.images[0]) \n",
    "# plt.show() \n",
    "\n",
    "\n",
    "X = digits.data \n",
    "y = digits.target\n",
    "\n",
    "X_train, X_test, y_train, y_test = train_test_split(X, y, test_size=0.25, random_state=123)"
   ]
  },
  {
   "cell_type": "markdown",
   "metadata": {},
   "source": [
    "## KNN"
   ]
  },
  {
   "cell_type": "code",
   "execution_count": 53,
   "metadata": {},
   "outputs": [
    {
     "data": {
      "text/plain": [
       "(1347, 450)"
      ]
     },
     "execution_count": 53,
     "metadata": {},
     "output_type": "execute_result"
    }
   ],
   "source": [
    "len(X_train),len(X_test)"
   ]
  },
  {
   "cell_type": "code",
   "execution_count": 54,
   "metadata": {},
   "outputs": [],
   "source": [
    "class KNN:\n",
    "    def __init__(self, K=3):\n",
    "        self.K = K\n",
    "\n",
    "    def fit(self, x_train, y_train):\n",
    "        self.X_train = x_train\n",
    "        self.Y_train = y_train\n",
    "\n",
    "    \n",
    "    def euc_dist(self, x1, x2):\n",
    "    \treturn np.sqrt(np.sum((x1-x2)**2))\n",
    "    \t\n",
    "    \n",
    "    def predict(self, X_test):\n",
    "\t    predictions = [] \n",
    "\t    for i in range(len(X_test)):\n",
    "\t        dist = np.array([self.euc_dist(X_test[i], x_t) for x_t in self.X_train])\n",
    "\t        dist_sorted = dist.argsort()[:self.K]\n",
    "\t        neigh_count = {}\n",
    "\t        for idx in dist_sorted:\n",
    "\t            if self.Y_train[idx] in neigh_count:\n",
    "\t                neigh_count[self.Y_train[idx]] += 1\n",
    "\t            else:\n",
    "\t                neigh_count[self.Y_train[idx]] = 1\n",
    "\t       \n",
    "\t        sorted_neigh_count = sorted(neigh_count.items(), reverse=True)\n",
    "\t        predictions.append(sorted_neigh_count[0][0]) \n",
    "\t    return predictions\n"
   ]
  },
  {
   "cell_type": "code",
   "execution_count": 57,
   "metadata": {},
   "outputs": [
    {
     "name": "stdout",
     "output_type": "stream",
     "text": [
      "Time Taken: 13.793493747711182 sec\n",
      "K = 3; Accuracy: 0.9755555555555555\n"
     ]
    }
   ],
   "source": [
    "k = 3\n",
    "start = time.time()\n",
    "model = KNN(K = k)\n",
    "model.fit(X_train, y_train)\n",
    "pred = model.predict(X_test)\n",
    "acc = accuracy_score(y_test, pred)\n",
    "end = time.time()\n",
    "print(f\"Time Taken: {end-start} sec\")\n",
    "print(\"K = \"+str(k)+\"; Accuracy: \"+str(acc))"
   ]
  },
  {
   "cell_type": "code",
   "execution_count": 58,
   "metadata": {},
   "outputs": [
    {
     "name": "stdout",
     "output_type": "stream",
     "text": [
      "14.4 s ± 576 ms per loop (mean ± std. dev. of 7 runs, 5 loops each)\n"
     ]
    }
   ],
   "source": [
    "%timeit -n 5 model.predict(X_test)"
   ]
  },
  {
   "cell_type": "code",
   "execution_count": 59,
   "metadata": {},
   "outputs": [],
   "source": [
    "%lprun -f  model.predict model.predict(X_test)"
   ]
  },
  {
   "cell_type": "markdown",
   "metadata": {},
   "source": [
    "## Logistic regression"
   ]
  },
  {
   "cell_type": "code",
   "execution_count": 61,
   "metadata": {},
   "outputs": [],
   "source": [
    "alpha = 1e-2\n",
    "class_of_interest = 10\n",
    "max_iter = 1000\n",
    "\n",
    "\n",
    "def _sigmoid(x):\n",
    "    \"\"\"Sigmoide function\"\"\"\n",
    "\n",
    "    return 1.0 / (1.0 + np.exp(-x))\n",
    "\n",
    "def predict(x_bar, params):\n",
    "    \"\"\"predict the probability of a class\"\"\"  \n",
    "\n",
    "    return _sigmoid(np.dot(params, x_bar))\n",
    "\n",
    "def _compute_cost(input_var, output_var, params):\n",
    "    \"\"\"Compute the log likelihood cost\"\"\"\n",
    "\n",
    "    cost = 0\n",
    "    for x, y in zip(input_var, output_var):\n",
    "        x_bar = np.array(np.insert(x, 0, 1))\n",
    "        y_hat = self.predict(x_bar, params)\n",
    "\n",
    "        y_binary = 1.0 if y == class_of_interest else 0.0\n",
    "        cost += y_binary * np.log(y_hat) + (1.0 - y_binary) * np.log(1 - y_hat)\n",
    "\n",
    "    return cost\n",
    "\n",
    "def train(input_var, label, initial_params, print_iter = 5000):\n",
    "    \"\"\"Train the model using batch gradient ascent\"\"\"\n",
    "\n",
    "    iteration = 1\n",
    "    while iteration < max_iter:\n",
    "        if iteration % print_iter == 0:\n",
    "            print(f'iteration: {iteration}')\n",
    "            print(f'cost: {_compute_cost(input_var, label, initial_params)}')\n",
    "            print('--------------------------------------------')\n",
    "\n",
    "        for i, xy in enumerate(zip(input_var, label)):\n",
    "            x_bar = np.array(np.insert(xy[0], 0, 1))\n",
    "            y_hat = predict(x_bar, initial_params)\n",
    "\n",
    "            y_binary = 1.0 if xy[1] == class_of_interest else 0.0\n",
    "            gradient = (y_binary - y_hat) * x_bar\n",
    "            initial_params += alpha * gradient\n",
    "\n",
    "        iteration +=1\n",
    "\n",
    "    return initial_params\n",
    "\n",
    "def test(input_test, label_test,trained_params):\n",
    "    \"\"\"Test the accuracy of the model using test data\"\"\"\n",
    "    total_classifications = 0\n",
    "    correct_classifications = 0\n",
    "\n",
    "    for x,y in zip(input_test, label_test):\n",
    "        total_classifications += 1\n",
    "        x_bar = np.array(np.insert(x, 0, 1))\n",
    "        y_hat = predict(x_bar, trained_params)\n",
    "        \n",
    "        y_binary = 1.0 if y == class_of_interest else 0.0\n",
    "\n",
    "        if y_hat >= 0.5 and  y_binary == 1:\n",
    "            # correct classification of class_of_interest\n",
    "            correct_classifications += 1\n",
    "\n",
    "        if y_hat < 0.5 and  y_binary != 1:\n",
    "            # correct classification of an other class\n",
    "            correct_classifications += 1\n",
    "\n",
    "    accuracy = correct_classifications / total_classifications\n",
    "\n",
    "    return accuracy\n"
   ]
  },
  {
   "cell_type": "code",
   "execution_count": 62,
   "metadata": {},
   "outputs": [],
   "source": [
    "digits_train, digits_test, digits_label_train, digits_label_test = train_test_split(X, y, test_size=0.30)"
   ]
  },
  {
   "cell_type": "code",
   "execution_count": 63,
   "metadata": {
    "scrolled": true
   },
   "outputs": [
    {
     "name": "stdout",
     "output_type": "stream",
     "text": [
      "Accuracy of prediciting in test set: 0.9851851851851852\n",
      "Total time taken: 969.3034505844116sec\n"
     ]
    }
   ],
   "source": [
    "start = time.time()\n",
    "initial_params = np.zeros(len(digits.data[0]) + 1)\n",
    "for clas in range(10):\n",
    "    class_of_interest = clas\n",
    "    if clas == 0:\n",
    "        trained_params = initial_params\n",
    "    trained_params = train(digits_train / 16.0, digits_label_train, trained_params,1000)\n",
    "digits_accuracy = test(digits_test / 16.0, digits_label_test,trained_params)\n",
    "end = time.time()\n",
    "\n",
    "print(f'Accuracy of prediciting in test set: {digits_accuracy}')\n",
    "print(f'Total time taken: {end- start}sec')"
   ]
  },
  {
   "cell_type": "code",
   "execution_count": 65,
   "metadata": {},
   "outputs": [
    {
     "name": "stdout",
     "output_type": "stream",
     "text": [
      "1min 35s ± 10.8 s per loop (mean ± std. dev. of 7 runs, 1 loop each)\n"
     ]
    }
   ],
   "source": [
    "%timeit -n 1 train(digits_train / 16.0, digits_label_train, initial_params,1000)"
   ]
  },
  {
   "cell_type": "code",
   "execution_count": null,
   "metadata": {},
   "outputs": [],
   "source": [
    "%lprun -f train train(digits_train / 16.0, digits_label_train, initial_params,1000)"
   ]
  },
  {
   "cell_type": "code",
   "execution_count": null,
   "metadata": {},
   "outputs": [],
   "source": []
  }
 ],
 "metadata": {
  "kernelspec": {
   "display_name": "Python 3",
   "language": "python",
   "name": "python3"
  },
  "language_info": {
   "codemirror_mode": {
    "name": "ipython",
    "version": 3
   },
   "file_extension": ".py",
   "mimetype": "text/x-python",
   "name": "python",
   "nbconvert_exporter": "python",
   "pygments_lexer": "ipython3",
   "version": "3.7.6"
  }
 },
 "nbformat": 4,
 "nbformat_minor": 4
}
